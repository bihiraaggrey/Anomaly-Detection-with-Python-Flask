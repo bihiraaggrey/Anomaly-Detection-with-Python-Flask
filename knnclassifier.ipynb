{
 "cells": [
  {
   "cell_type": "markdown",
   "metadata": {},
   "source": [
    "## Prediction of anomalies with knn algorithm"
   ]
  },
  {
   "cell_type": "code",
   "execution_count": 1,
   "metadata": {},
   "outputs": [],
   "source": [
    "import pandas as pd\n",
    "import numpy as np\n",
    "from sklearn.model_selection import train_test_split\n",
    "from sklearn.preprocessing import StandardScaler\n",
    "from sklearn.neighbors import KNeighborsClassifier\n",
    "from sklearn.metrics import confusion_matrix, classification_report\n",
    "from sklearn.metrics import f1_score\n",
    "from sklearn.metrics import accuracy_score"
   ]
  },
  {
   "cell_type": "code",
   "execution_count": 2,
   "metadata": {
    "scrolled": true
   },
   "outputs": [
    {
     "name": "stdout",
     "output_type": "stream",
     "text": [
      "109105\n"
     ]
    },
    {
     "data": {
      "text/html": [
       "<div>\n",
       "<style scoped>\n",
       "    .dataframe tbody tr th:only-of-type {\n",
       "        vertical-align: middle;\n",
       "    }\n",
       "\n",
       "    .dataframe tbody tr th {\n",
       "        vertical-align: top;\n",
       "    }\n",
       "\n",
       "    .dataframe thead th {\n",
       "        text-align: right;\n",
       "    }\n",
       "</style>\n",
       "<table border=\"1\" class=\"dataframe\">\n",
       "  <thead>\n",
       "    <tr style=\"text-align: right;\">\n",
       "      <th></th>\n",
       "      <th>Unnamed: 0</th>\n",
       "      <th>ID</th>\n",
       "      <th>USER TYPE</th>\n",
       "      <th>CATEGORY</th>\n",
       "      <th>JAN_09</th>\n",
       "      <th>FEB_09</th>\n",
       "      <th>MAR_09</th>\n",
       "      <th>APR_09</th>\n",
       "      <th>MAY_09</th>\n",
       "      <th>JUN_09</th>\n",
       "      <th>...</th>\n",
       "      <th>APR_15</th>\n",
       "      <th>MAY_15</th>\n",
       "      <th>JUN_15</th>\n",
       "      <th>JUL_15</th>\n",
       "      <th>AUG_15</th>\n",
       "      <th>SEP_15</th>\n",
       "      <th>OCT_15</th>\n",
       "      <th>NOV_15</th>\n",
       "      <th>DEC_15</th>\n",
       "      <th>cluster</th>\n",
       "    </tr>\n",
       "  </thead>\n",
       "  <tbody>\n",
       "    <tr>\n",
       "      <th>0</th>\n",
       "      <td>0</td>\n",
       "      <td>1</td>\n",
       "      <td>0</td>\n",
       "      <td>1</td>\n",
       "      <td>-0.002219</td>\n",
       "      <td>-0.001653</td>\n",
       "      <td>-0.001196</td>\n",
       "      <td>-0.001247</td>\n",
       "      <td>-0.000878</td>\n",
       "      <td>-0.001150</td>\n",
       "      <td>...</td>\n",
       "      <td>-0.001089</td>\n",
       "      <td>-0.001440</td>\n",
       "      <td>-0.002066</td>\n",
       "      <td>-0.003628</td>\n",
       "      <td>-0.004031</td>\n",
       "      <td>-0.009181</td>\n",
       "      <td>-0.006543</td>\n",
       "      <td>-0.001695</td>\n",
       "      <td>-0.001852</td>\n",
       "      <td>0</td>\n",
       "    </tr>\n",
       "    <tr>\n",
       "      <th>1</th>\n",
       "      <td>1</td>\n",
       "      <td>2</td>\n",
       "      <td>5</td>\n",
       "      <td>0</td>\n",
       "      <td>-0.002178</td>\n",
       "      <td>-0.001571</td>\n",
       "      <td>-0.001279</td>\n",
       "      <td>-0.001247</td>\n",
       "      <td>-0.000925</td>\n",
       "      <td>-0.001195</td>\n",
       "      <td>...</td>\n",
       "      <td>-0.001226</td>\n",
       "      <td>-0.001704</td>\n",
       "      <td>-0.002481</td>\n",
       "      <td>-0.003950</td>\n",
       "      <td>-0.004735</td>\n",
       "      <td>-0.010816</td>\n",
       "      <td>-0.009822</td>\n",
       "      <td>-0.002298</td>\n",
       "      <td>-0.002170</td>\n",
       "      <td>0</td>\n",
       "    </tr>\n",
       "    <tr>\n",
       "      <th>2</th>\n",
       "      <td>2</td>\n",
       "      <td>3</td>\n",
       "      <td>0</td>\n",
       "      <td>1</td>\n",
       "      <td>-0.002016</td>\n",
       "      <td>-0.001363</td>\n",
       "      <td>-0.000947</td>\n",
       "      <td>-0.001018</td>\n",
       "      <td>-0.000737</td>\n",
       "      <td>-0.001015</td>\n",
       "      <td>...</td>\n",
       "      <td>-0.001521</td>\n",
       "      <td>-0.001704</td>\n",
       "      <td>-0.002705</td>\n",
       "      <td>-0.004353</td>\n",
       "      <td>-0.004836</td>\n",
       "      <td>-0.011327</td>\n",
       "      <td>-0.010786</td>\n",
       "      <td>-0.002412</td>\n",
       "      <td>-0.002286</td>\n",
       "      <td>0</td>\n",
       "    </tr>\n",
       "    <tr>\n",
       "      <th>3</th>\n",
       "      <td>3</td>\n",
       "      <td>4</td>\n",
       "      <td>5</td>\n",
       "      <td>0</td>\n",
       "      <td>-0.001652</td>\n",
       "      <td>-0.001032</td>\n",
       "      <td>-0.000823</td>\n",
       "      <td>-0.000904</td>\n",
       "      <td>-0.000525</td>\n",
       "      <td>-0.000925</td>\n",
       "      <td>...</td>\n",
       "      <td>-0.001403</td>\n",
       "      <td>-0.001744</td>\n",
       "      <td>-0.002545</td>\n",
       "      <td>-0.004031</td>\n",
       "      <td>-0.004434</td>\n",
       "      <td>-0.010203</td>\n",
       "      <td>-0.009822</td>\n",
       "      <td>-0.002125</td>\n",
       "      <td>-0.001997</td>\n",
       "      <td>0</td>\n",
       "    </tr>\n",
       "    <tr>\n",
       "      <th>4</th>\n",
       "      <td>4</td>\n",
       "      <td>5</td>\n",
       "      <td>3</td>\n",
       "      <td>3</td>\n",
       "      <td>-0.002219</td>\n",
       "      <td>-0.001571</td>\n",
       "      <td>-0.001155</td>\n",
       "      <td>-0.001208</td>\n",
       "      <td>-0.000855</td>\n",
       "      <td>-0.001127</td>\n",
       "      <td>...</td>\n",
       "      <td>-0.001246</td>\n",
       "      <td>-0.001501</td>\n",
       "      <td>-0.002194</td>\n",
       "      <td>-0.003869</td>\n",
       "      <td>-0.004283</td>\n",
       "      <td>-0.009794</td>\n",
       "      <td>-0.008279</td>\n",
       "      <td>-0.001982</td>\n",
       "      <td>-0.001795</td>\n",
       "      <td>1</td>\n",
       "    </tr>\n",
       "  </tbody>\n",
       "</table>\n",
       "<p>5 rows × 89 columns</p>\n",
       "</div>"
      ],
      "text/plain": [
       "   Unnamed: 0  ID  USER TYPE  CATEGORY    JAN_09    FEB_09    MAR_09  \\\n",
       "0           0   1          0         1 -0.002219 -0.001653 -0.001196   \n",
       "1           1   2          5         0 -0.002178 -0.001571 -0.001279   \n",
       "2           2   3          0         1 -0.002016 -0.001363 -0.000947   \n",
       "3           3   4          5         0 -0.001652 -0.001032 -0.000823   \n",
       "4           4   5          3         3 -0.002219 -0.001571 -0.001155   \n",
       "\n",
       "     APR_09    MAY_09    JUN_09   ...       APR_15    MAY_15    JUN_15  \\\n",
       "0 -0.001247 -0.000878 -0.001150   ...    -0.001089 -0.001440 -0.002066   \n",
       "1 -0.001247 -0.000925 -0.001195   ...    -0.001226 -0.001704 -0.002481   \n",
       "2 -0.001018 -0.000737 -0.001015   ...    -0.001521 -0.001704 -0.002705   \n",
       "3 -0.000904 -0.000525 -0.000925   ...    -0.001403 -0.001744 -0.002545   \n",
       "4 -0.001208 -0.000855 -0.001127   ...    -0.001246 -0.001501 -0.002194   \n",
       "\n",
       "     JUL_15    AUG_15    SEP_15    OCT_15    NOV_15    DEC_15  cluster  \n",
       "0 -0.003628 -0.004031 -0.009181 -0.006543 -0.001695 -0.001852        0  \n",
       "1 -0.003950 -0.004735 -0.010816 -0.009822 -0.002298 -0.002170        0  \n",
       "2 -0.004353 -0.004836 -0.011327 -0.010786 -0.002412 -0.002286        0  \n",
       "3 -0.004031 -0.004434 -0.010203 -0.009822 -0.002125 -0.001997        0  \n",
       "4 -0.003869 -0.004283 -0.009794 -0.008279 -0.001982 -0.001795        1  \n",
       "\n",
       "[5 rows x 89 columns]"
      ]
     },
     "execution_count": 2,
     "metadata": {},
     "output_type": "execute_result"
    }
   ],
   "source": [
    "dataset=pd.read_csv('dataprocessed.csv')\n",
    "print( len(dataset) )\n",
    "dataset.head()"
   ]
  },
  {
   "cell_type": "code",
   "execution_count": 3,
   "metadata": {},
   "outputs": [],
   "source": [
    "#replacing zeros\n",
    "replace_zero=['JAN_09','FEB_09','MAR_09','APR_09','MAY_09','JUN_09','JUL_09','AUG_09','SEP_09','OCT_09','NOV_09','DEC_09',\n",
    "             'JAN_10','FEB_10','MAR_10','APR_10','MAY_10','JUN_10','JUL_10','AUG_10','SEP_10','OCT_10','NOV_10','DEC_10',\n",
    "             'JAN_11','FEB_11','MAR_11','APR_11','MAY_11','JUN_11','JUL_11','AUG_11','SEP_11','OCT_11','NOV_11','DEC_11',\n",
    "             'JAN_12','FEB_12','MAR_12','APR_12','MAY_12','JUN_12','JUL_12','AUG_12','SEP_12','OCT_12','NOV_12','DEC_12']\n",
    "for column in replace_zero:\n",
    "    dataset[column]=dataset[column].replace(0, np.NaN)\n",
    "    mean=int(dataset[column].mean(skipna=True))\n",
    "    dataset[column]=dataset[column].replace(np.NaN, mean)"
   ]
  },
  {
   "cell_type": "code",
   "execution_count": 4,
   "metadata": {},
   "outputs": [],
   "source": [
    " #splitting te dataset\n",
    "x=dataset.iloc[:,3:87]\n",
    "y=dataset.iloc[:,88]\n",
    "x_train, x_test, y_train, y_test = train_test_split(x, y, random_state=15, test_size=0.2)"
   ]
  },
  {
   "cell_type": "markdown",
   "metadata": {},
   "source": []
  },
  {
   "cell_type": "markdown",
   "metadata": {},
   "source": [
    "### Defining the model and fitting the train data in the model"
   ]
  },
  {
   "cell_type": "code",
   "execution_count": 5,
   "metadata": {},
   "outputs": [],
   "source": [
    "# import math\n",
    "# math.sqrt(len(y_test))"
   ]
  },
  {
   "cell_type": "code",
   "execution_count": 6,
   "metadata": {},
   "outputs": [
    {
     "data": {
      "text/plain": [
       "KNeighborsClassifier(algorithm='auto', leaf_size=30, metric='minkowski',\n",
       "           metric_params=None, n_jobs=1, n_neighbors=5, p=2,\n",
       "           weights='uniform')"
      ]
     },
     "execution_count": 6,
     "metadata": {},
     "output_type": "execute_result"
    }
   ],
   "source": [
    "#defining the model\n",
    "classifier = KNeighborsClassifier()\n",
    "#fitting the model\n",
    "classifier.fit(x_train, y_train)"
   ]
  },
  {
   "cell_type": "markdown",
   "metadata": {},
   "source": [
    " ### Evaluating the model"
   ]
  },
  {
   "cell_type": "code",
   "execution_count": 7,
   "metadata": {},
   "outputs": [
    {
     "data": {
      "text/plain": [
       "array([[18538,     0],\n",
       "       [    0,  3283]], dtype=int64)"
      ]
     },
     "execution_count": 7,
     "metadata": {},
     "output_type": "execute_result"
    }
   ],
   "source": [
    "#predict the test results\n",
    "y_pred=classifier.predict(x_test)\n",
    "confusion_matrix(y_test,y_pred)"
   ]
  },
  {
   "cell_type": "code",
   "execution_count": 8,
   "metadata": {},
   "outputs": [
    {
     "name": "stdout",
     "output_type": "stream",
     "text": [
      "             precision    recall  f1-score   support\n",
      "\n",
      "          0       1.00      1.00      1.00     18538\n",
      "          1       1.00      1.00      1.00      3283\n",
      "\n",
      "avg / total       1.00      1.00      1.00     21821\n",
      "\n"
     ]
    }
   ],
   "source": [
    "#model evaluation with confussion matrix\n",
    "print( classification_report(y_test, y_pred))"
   ]
  },
  {
   "cell_type": "code",
   "execution_count": 9,
   "metadata": {},
   "outputs": [
    {
     "data": {
      "text/plain": [
       "1.0"
      ]
     },
     "execution_count": 9,
     "metadata": {},
     "output_type": "execute_result"
    }
   ],
   "source": [
    "accuracy_score(y_test,y_pred)"
   ]
  },
  {
   "cell_type": "code",
   "execution_count": null,
   "metadata": {},
   "outputs": [],
   "source": []
  }
 ],
 "metadata": {
  "kernelspec": {
   "display_name": "Python 3",
   "language": "python",
   "name": "python3"
  },
  "language_info": {
   "codemirror_mode": {
    "name": "ipython",
    "version": 3
   },
   "file_extension": ".py",
   "mimetype": "text/x-python",
   "name": "python",
   "nbconvert_exporter": "python",
   "pygments_lexer": "ipython3",
   "version": "3.7.0"
  }
 },
 "nbformat": 4,
 "nbformat_minor": 2
}
